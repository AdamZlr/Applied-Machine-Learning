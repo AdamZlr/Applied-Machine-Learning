{
 "cells": [
  {
   "cell_type": "markdown",
   "id": "e12043c6-c2d7-4aa7-a88b-68fd301403f6",
   "metadata": {},
   "source": [
    "# Assignment Number 2\n",
    "Adam Zelzer, ID 328489166\n",
    "### Table of Contents\n",
    "\n",
    "* [Preprocessing](#Preprocessing)\n",
    "* [Feature Engineering](#FeatureEngineering)\n",
    "* [Model Selection](#ModelSelection)\n",
    "* [Hyperparameter Tuning](#HyperparameterTuning)\n",
    "* [Model Evaluation](#ModelEvaluation)\n",
    "* Change"
   ]
  },
  {
   "cell_type": "code",
   "execution_count": 2468,
   "id": "5fe94a7b-7759-46e0-96cb-125d6b371747",
   "metadata": {},
   "outputs": [],
   "source": [
    "import pandas as pd\n",
    "import numpy as np\n",
    "import matplotlib.pyplot as plt\n",
    "%matplotlib inline\n",
    "import seaborn as sns"
   ]
  },
  {
   "cell_type": "markdown",
   "id": "0b90721f-4b63-4000-85b3-90dcf64fd75c",
   "metadata": {},
   "source": [
    "## Preprocessing <a class=\"anchor\" id=\"Preprocessing\"></a>\n",
    "\n",
    "first, we'll load the train and test datasets:"
   ]
  },
  {
   "cell_type": "code",
   "execution_count": 2469,
   "id": "89feb0fd-cc88-414e-9f2b-d920aa2c9d49",
   "metadata": {},
   "outputs": [],
   "source": [
    "train = pd.read_parquet(\"train.parquet\")\n",
    "test = pd.read_parquet(\"test.parquet\")"
   ]
  },
  {
   "cell_type": "code",
   "execution_count": 2470,
   "id": "89a461dd-1058-4e7f-b963-ff270bd10e2f",
   "metadata": {},
   "outputs": [
    {
     "data": {
      "text/html": [
       "<div>\n",
       "<style scoped>\n",
       "    .dataframe tbody tr th:only-of-type {\n",
       "        vertical-align: middle;\n",
       "    }\n",
       "\n",
       "    .dataframe tbody tr th {\n",
       "        vertical-align: top;\n",
       "    }\n",
       "\n",
       "    .dataframe thead th {\n",
       "        text-align: right;\n",
       "    }\n",
       "</style>\n",
       "<table border=\"1\" class=\"dataframe\">\n",
       "  <thead>\n",
       "    <tr style=\"text-align: right;\">\n",
       "      <th></th>\n",
       "      <th>age</th>\n",
       "      <th>boat</th>\n",
       "      <th>body</th>\n",
       "      <th>cabin</th>\n",
       "      <th>embarked</th>\n",
       "      <th>fare</th>\n",
       "      <th>home.dest</th>\n",
       "      <th>name</th>\n",
       "      <th>parch</th>\n",
       "      <th>pclass</th>\n",
       "      <th>sex</th>\n",
       "      <th>sibsp</th>\n",
       "      <th>survived</th>\n",
       "      <th>ticket</th>\n",
       "    </tr>\n",
       "  </thead>\n",
       "  <tbody>\n",
       "    <tr>\n",
       "      <th>199</th>\n",
       "      <td>-1</td>\n",
       "      <td>C</td>\n",
       "      <td>-1</td>\n",
       "      <td>Unknown</td>\n",
       "      <td>0</td>\n",
       "      <td>15.2458</td>\n",
       "      <td>Unknown</td>\n",
       "      <td>Moubarek, Master. Halim Gonios ('William George')</td>\n",
       "      <td>1</td>\n",
       "      <td>2</td>\n",
       "      <td>0</td>\n",
       "      <td>1</td>\n",
       "      <td>1</td>\n",
       "      <td>2661</td>\n",
       "    </tr>\n",
       "    <tr>\n",
       "      <th>706</th>\n",
       "      <td>12</td>\n",
       "      <td>C</td>\n",
       "      <td>-1</td>\n",
       "      <td>Unknown</td>\n",
       "      <td>0</td>\n",
       "      <td>11.2417</td>\n",
       "      <td>Unknown</td>\n",
       "      <td>Nicola-Yarred, Master. Elias</td>\n",
       "      <td>0</td>\n",
       "      <td>2</td>\n",
       "      <td>0</td>\n",
       "      <td>1</td>\n",
       "      <td>1</td>\n",
       "      <td>2651</td>\n",
       "    </tr>\n",
       "    <tr>\n",
       "      <th>555</th>\n",
       "      <td>18</td>\n",
       "      <td>Unknown</td>\n",
       "      <td>-1</td>\n",
       "      <td>Unknown</td>\n",
       "      <td>2</td>\n",
       "      <td>13.0000</td>\n",
       "      <td>Kontiolahti, Finland / Detroit, MI</td>\n",
       "      <td>Hiltunen, Miss. Marta</td>\n",
       "      <td>1</td>\n",
       "      <td>1</td>\n",
       "      <td>1</td>\n",
       "      <td>1</td>\n",
       "      <td>0</td>\n",
       "      <td>250650</td>\n",
       "    </tr>\n",
       "    <tr>\n",
       "      <th>382</th>\n",
       "      <td>37</td>\n",
       "      <td>Unknown</td>\n",
       "      <td>-1</td>\n",
       "      <td>Unknown</td>\n",
       "      <td>2</td>\n",
       "      <td>9.5875</td>\n",
       "      <td>Unknown</td>\n",
       "      <td>Laitinen, Miss. Kristina Sofia</td>\n",
       "      <td>0</td>\n",
       "      <td>2</td>\n",
       "      <td>1</td>\n",
       "      <td>0</td>\n",
       "      <td>0</td>\n",
       "      <td>4135</td>\n",
       "    </tr>\n",
       "    <tr>\n",
       "      <th>316</th>\n",
       "      <td>41</td>\n",
       "      <td>Unknown</td>\n",
       "      <td>-1</td>\n",
       "      <td>Unknown</td>\n",
       "      <td>2</td>\n",
       "      <td>39.6875</td>\n",
       "      <td>Unknown</td>\n",
       "      <td>Panula, Mrs. Juha (Maria Emilia Ojala)</td>\n",
       "      <td>5</td>\n",
       "      <td>2</td>\n",
       "      <td>1</td>\n",
       "      <td>0</td>\n",
       "      <td>0</td>\n",
       "      <td>3101295</td>\n",
       "    </tr>\n",
       "  </tbody>\n",
       "</table>\n",
       "</div>"
      ],
      "text/plain": [
       "     age     boat  body    cabin  embarked     fare  \\\n",
       "199   -1        C    -1  Unknown         0  15.2458   \n",
       "706   12        C    -1  Unknown         0  11.2417   \n",
       "555   18  Unknown    -1  Unknown         2  13.0000   \n",
       "382   37  Unknown    -1  Unknown         2   9.5875   \n",
       "316   41  Unknown    -1  Unknown         2  39.6875   \n",
       "\n",
       "                              home.dest  \\\n",
       "199                             Unknown   \n",
       "706                             Unknown   \n",
       "555  Kontiolahti, Finland / Detroit, MI   \n",
       "382                             Unknown   \n",
       "316                             Unknown   \n",
       "\n",
       "                                                  name  parch  pclass  sex  \\\n",
       "199  Moubarek, Master. Halim Gonios ('William George')      1       2    0   \n",
       "706                       Nicola-Yarred, Master. Elias      0       2    0   \n",
       "555                              Hiltunen, Miss. Marta      1       1    1   \n",
       "382                     Laitinen, Miss. Kristina Sofia      0       2    1   \n",
       "316             Panula, Mrs. Juha (Maria Emilia Ojala)      5       2    1   \n",
       "\n",
       "     sibsp  survived   ticket  \n",
       "199      1         1     2661  \n",
       "706      1         1     2651  \n",
       "555      1         0   250650  \n",
       "382      0         0     4135  \n",
       "316      0         0  3101295  "
      ]
     },
     "execution_count": 2470,
     "metadata": {},
     "output_type": "execute_result"
    }
   ],
   "source": [
    "train.head()"
   ]
  },
  {
   "cell_type": "markdown",
   "id": "331da3d8-d645-493c-87b1-6f939139d013",
   "metadata": {},
   "source": [
    "We'll have to work one feature at a time, as it seems like all have missing or unordinary values. "
   ]
  },
  {
   "cell_type": "markdown",
   "id": "9a558726-b69f-48f3-84d1-53436372d114",
   "metadata": {},
   "source": [
    "### Age"
   ]
  },
  {
   "cell_type": "code",
   "execution_count": 2471,
   "id": "e44793f2-18b0-469f-9bd8-6dbe2bd47486",
   "metadata": {},
   "outputs": [
    {
     "data": {
      "image/png": "[encoded data removed]",
      "text/plain": [
       "<Figure size 640x480 with 1 Axes>"
      ]
     },
     "metadata": {},
     "output_type": "display_data"
    }
   ],
   "source": [
    "sns.histplot(data=train[train['age']>=0], x=\"age\", hue = \"survived\", bins=16, multiple=\"dodge\")\n",
    "plt.title(\"Age distribution\")\n",
    "plt.show()"
   ]
  },
  {
   "cell_type": "code",
   "execution_count": 2472,
   "id": "688d4665-ebab-445c-a8b1-9c25b35b9373",
   "metadata": {},
   "outputs": [
    {
     "data": {
      "text/plain": [
       "array([-1, 12, 18, 37, 41, 55, 32, 43, 50, 52, 23, 35, 49,  9, 54, 24, 14,\n",
       "       21, 10, 42, 34, 29, 38, 25, 19,  6, 27, 26, 30, 22, 28,  2, 46,  0,\n",
       "       47, 63, 20, 39, 59,  8, 17, 45, 36, 40, 60, 51, 44,  4, 16, 15, 53,\n",
       "       33, 48, 31, 64, 62, 57, 67,  1, 74, 58,  3,  7,  5, 70, 56, 61, 80,\n",
       "       11, 76, 13, 66, 71, 65], dtype=int64)"
      ]
     },
     "execution_count": 2472,
     "metadata": {},
     "output_type": "execute_result"
    }
   ],
   "source": [
    "train['age'].unique()"
   ]
  },
  {
   "cell_type": "markdown",
   "id": "25576249-8a57-4a49-93d1-08c545b66253",
   "metadata": {},
   "source": [
    "-1 is not an age!"
   ]
  },
  {
   "cell_type": "code",
   "execution_count": 2473,
   "id": "d8ee199a-770f-44e9-af42-bada31a38573",
   "metadata": {},
   "outputs": [
    {
     "data": {
      "text/html": [
       "<div>\n",
       "<style scoped>\n",
       "    .dataframe tbody tr th:only-of-type {\n",
       "        vertical-align: middle;\n",
       "    }\n",
       "\n",
       "    .dataframe tbody tr th {\n",
       "        vertical-align: top;\n",
       "    }\n",
       "\n",
       "    .dataframe thead th {\n",
       "        text-align: right;\n",
       "    }\n",
       "</style>\n",
       "<table border=\"1\" class=\"dataframe\">\n",
       "  <thead>\n",
       "    <tr style=\"text-align: right;\">\n",
       "      <th></th>\n",
       "      <th>age</th>\n",
       "      <th>boat</th>\n",
       "      <th>body</th>\n",
       "      <th>cabin</th>\n",
       "      <th>embarked</th>\n",
       "      <th>fare</th>\n",
       "      <th>home.dest</th>\n",
       "      <th>name</th>\n",
       "      <th>parch</th>\n",
       "      <th>pclass</th>\n",
       "      <th>sex</th>\n",
       "      <th>sibsp</th>\n",
       "      <th>survived</th>\n",
       "      <th>ticket</th>\n",
       "    </tr>\n",
       "  </thead>\n",
       "  <tbody>\n",
       "    <tr>\n",
       "      <th>199</th>\n",
       "      <td>-1</td>\n",
       "      <td>C</td>\n",
       "      <td>-1</td>\n",
       "      <td>Unknown</td>\n",
       "      <td>0</td>\n",
       "      <td>15.245800</td>\n",
       "      <td>Unknown</td>\n",
       "      <td>Moubarek, Master. Halim Gonios ('William George')</td>\n",
       "      <td>1</td>\n",
       "      <td>2</td>\n",
       "      <td>0</td>\n",
       "      <td>1</td>\n",
       "      <td>1</td>\n",
       "      <td>2661</td>\n",
       "    </tr>\n",
       "    <tr>\n",
       "      <th>1261</th>\n",
       "      <td>-1</td>\n",
       "      <td>Unknown</td>\n",
       "      <td>-1</td>\n",
       "      <td>F E46</td>\n",
       "      <td>0</td>\n",
       "      <td>7.229200</td>\n",
       "      <td>Unknown</td>\n",
       "      <td>Mardirosian, Mr. Sarkis</td>\n",
       "      <td>0</td>\n",
       "      <td>2</td>\n",
       "      <td>0</td>\n",
       "      <td>0</td>\n",
       "      <td>0</td>\n",
       "      <td>2655</td>\n",
       "    </tr>\n",
       "    <tr>\n",
       "      <th>101</th>\n",
       "      <td>-1</td>\n",
       "      <td>Unknown</td>\n",
       "      <td>-1</td>\n",
       "      <td>Unknown</td>\n",
       "      <td>1</td>\n",
       "      <td>15.500000</td>\n",
       "      <td>Unknown</td>\n",
       "      <td>Lennon, Miss. Mary</td>\n",
       "      <td>0</td>\n",
       "      <td>2</td>\n",
       "      <td>1</td>\n",
       "      <td>1</td>\n",
       "      <td>0</td>\n",
       "      <td>370371</td>\n",
       "    </tr>\n",
       "    <tr>\n",
       "      <th>660</th>\n",
       "      <td>-1</td>\n",
       "      <td>D</td>\n",
       "      <td>-1</td>\n",
       "      <td>Unknown</td>\n",
       "      <td>0</td>\n",
       "      <td>22.358299</td>\n",
       "      <td>Unknown</td>\n",
       "      <td>Peter, Mrs. Catherine (Catherine Rizk)</td>\n",
       "      <td>2</td>\n",
       "      <td>2</td>\n",
       "      <td>1</td>\n",
       "      <td>0</td>\n",
       "      <td>1</td>\n",
       "      <td>2668</td>\n",
       "    </tr>\n",
       "    <tr>\n",
       "      <th>556</th>\n",
       "      <td>-1</td>\n",
       "      <td>Unknown</td>\n",
       "      <td>-1</td>\n",
       "      <td>Unknown</td>\n",
       "      <td>2</td>\n",
       "      <td>8.050000</td>\n",
       "      <td>Unknown</td>\n",
       "      <td>Sirota, Mr. Maurice</td>\n",
       "      <td>0</td>\n",
       "      <td>2</td>\n",
       "      <td>0</td>\n",
       "      <td>0</td>\n",
       "      <td>0</td>\n",
       "      <td>392092</td>\n",
       "    </tr>\n",
       "    <tr>\n",
       "      <th>...</th>\n",
       "      <td>...</td>\n",
       "      <td>...</td>\n",
       "      <td>...</td>\n",
       "      <td>...</td>\n",
       "      <td>...</td>\n",
       "      <td>...</td>\n",
       "      <td>...</td>\n",
       "      <td>...</td>\n",
       "      <td>...</td>\n",
       "      <td>...</td>\n",
       "      <td>...</td>\n",
       "      <td>...</td>\n",
       "      <td>...</td>\n",
       "      <td>...</td>\n",
       "    </tr>\n",
       "    <tr>\n",
       "      <th>569</th>\n",
       "      <td>-1</td>\n",
       "      <td>D</td>\n",
       "      <td>-1</td>\n",
       "      <td>Unknown</td>\n",
       "      <td>0</td>\n",
       "      <td>79.199997</td>\n",
       "      <td>New York, NY</td>\n",
       "      <td>Thorne, Mrs. Gertrude Maybelle</td>\n",
       "      <td>0</td>\n",
       "      <td>0</td>\n",
       "      <td>1</td>\n",
       "      <td>0</td>\n",
       "      <td>1</td>\n",
       "      <td>PC 17585</td>\n",
       "    </tr>\n",
       "    <tr>\n",
       "      <th>16</th>\n",
       "      <td>-1</td>\n",
       "      <td>Unknown</td>\n",
       "      <td>-1</td>\n",
       "      <td>Unknown</td>\n",
       "      <td>1</td>\n",
       "      <td>7.750000</td>\n",
       "      <td>Unknown</td>\n",
       "      <td>Morrow, Mr. Thomas Rowan</td>\n",
       "      <td>0</td>\n",
       "      <td>2</td>\n",
       "      <td>0</td>\n",
       "      <td>0</td>\n",
       "      <td>0</td>\n",
       "      <td>372622</td>\n",
       "    </tr>\n",
       "    <tr>\n",
       "      <th>546</th>\n",
       "      <td>-1</td>\n",
       "      <td>Unknown</td>\n",
       "      <td>-1</td>\n",
       "      <td>Unknown</td>\n",
       "      <td>2</td>\n",
       "      <td>69.550003</td>\n",
       "      <td>Unknown</td>\n",
       "      <td>Sage, Miss. Constance Gladys</td>\n",
       "      <td>2</td>\n",
       "      <td>2</td>\n",
       "      <td>1</td>\n",
       "      <td>8</td>\n",
       "      <td>0</td>\n",
       "      <td>CA. 2343</td>\n",
       "    </tr>\n",
       "    <tr>\n",
       "      <th>959</th>\n",
       "      <td>-1</td>\n",
       "      <td>Unknown</td>\n",
       "      <td>-1</td>\n",
       "      <td>Unknown</td>\n",
       "      <td>2</td>\n",
       "      <td>21.000000</td>\n",
       "      <td>Upper Burma, India Pittsburgh, PA</td>\n",
       "      <td>Corey, Mrs. Percy C (Mary Phyllis Elizabeth Mi...</td>\n",
       "      <td>0</td>\n",
       "      <td>1</td>\n",
       "      <td>1</td>\n",
       "      <td>0</td>\n",
       "      <td>0</td>\n",
       "      <td>F.C.C. 13534</td>\n",
       "    </tr>\n",
       "    <tr>\n",
       "      <th>225</th>\n",
       "      <td>-1</td>\n",
       "      <td>16</td>\n",
       "      <td>-1</td>\n",
       "      <td>Unknown</td>\n",
       "      <td>1</td>\n",
       "      <td>7.737500</td>\n",
       "      <td>Unknown</td>\n",
       "      <td>Mannion, Miss. Margareth</td>\n",
       "      <td>0</td>\n",
       "      <td>2</td>\n",
       "      <td>1</td>\n",
       "      <td>0</td>\n",
       "      <td>1</td>\n",
       "      <td>36866</td>\n",
       "    </tr>\n",
       "  </tbody>\n",
       "</table>\n",
       "<p>204 rows × 14 columns</p>\n",
       "</div>"
      ],
      "text/plain": [
       "      age     boat  body    cabin  embarked       fare  \\\n",
       "199    -1        C    -1  Unknown         0  15.245800   \n",
       "1261   -1  Unknown    -1    F E46         0   7.229200   \n",
       "101    -1  Unknown    -1  Unknown         1  15.500000   \n",
       "660    -1        D    -1  Unknown         0  22.358299   \n",
       "556    -1  Unknown    -1  Unknown         2   8.050000   \n",
       "...   ...      ...   ...      ...       ...        ...   \n",
       "569    -1        D    -1  Unknown         0  79.199997   \n",
       "16     -1  Unknown    -1  Unknown         1   7.750000   \n",
       "546    -1  Unknown    -1  Unknown         2  69.550003   \n",
       "959    -1  Unknown    -1  Unknown         2  21.000000   \n",
       "225    -1       16    -1  Unknown         1   7.737500   \n",
       "\n",
       "                              home.dest  \\\n",
       "199                             Unknown   \n",
       "1261                            Unknown   \n",
       "101                             Unknown   \n",
       "660                             Unknown   \n",
       "556                             Unknown   \n",
       "...                                 ...   \n",
       "569                        New York, NY   \n",
       "16                              Unknown   \n",
       "546                             Unknown   \n",
       "959   Upper Burma, India Pittsburgh, PA   \n",
       "225                             Unknown   \n",
       "\n",
       "                                                   name  parch  pclass  sex  \\\n",
       "199   Moubarek, Master. Halim Gonios ('William George')      1       2    0   \n",
       "1261                            Mardirosian, Mr. Sarkis      0       2    0   \n",
       "101                                  Lennon, Miss. Mary      0       2    1   \n",
       "660              Peter, Mrs. Catherine (Catherine Rizk)      2       2    1   \n",
       "556                                 Sirota, Mr. Maurice      0       2    0   \n",
       "...                                                 ...    ...     ...  ...   \n",
       "569                      Thorne, Mrs. Gertrude Maybelle      0       0    1   \n",
       "16                             Morrow, Mr. Thomas Rowan      0       2    0   \n",
       "546                        Sage, Miss. Constance Gladys      2       2    1   \n",
       "959   Corey, Mrs. Percy C (Mary Phyllis Elizabeth Mi...      0       1    1   \n",
       "225                            Mannion, Miss. Margareth      0       2    1   \n",
       "\n",
       "      sibsp  survived        ticket  \n",
       "199       1         1          2661  \n",
       "1261      0         0          2655  \n",
       "101       1         0        370371  \n",
       "660       0         1          2668  \n",
       "556       0         0        392092  \n",
       "...     ...       ...           ...  \n",
       "569       0         1      PC 17585  \n",
       "16        0         0        372622  \n",
       "546       8         0      CA. 2343  \n",
       "959       0         0  F.C.C. 13534  \n",
       "225       0         1         36866  \n",
       "\n",
       "[204 rows x 14 columns]"
      ]
     },
     "execution_count": 2473,
     "metadata": {},
     "output_type": "execute_result"
    }
   ],
   "source": [
    "train[train['age']==-1]"
   ]
  },
  {
   "cell_type": "code",
   "execution_count": 2474,
   "id": "254f95fd-e80d-4eb3-8af4-8d04f579bdb3",
   "metadata": {},
   "outputs": [
    {
     "data": {
      "text/plain": [
       "28.0"
      ]
     },
     "execution_count": 2474,
     "metadata": {},
     "output_type": "execute_result"
    }
   ],
   "source": [
    "med = train[train['age']>-1]['age'].median()\n",
    "med"
   ]
  },
  {
   "cell_type": "code",
   "execution_count": 2475,
   "id": "5b108991-6b5d-4937-8886-2ef88dbbff5b",
   "metadata": {},
   "outputs": [
    {
     "data": {
      "image/png": "[encoded data removed]",
      "text/plain": [
       "<Figure size 1000x500 with 2 Axes>"
      ]
     },
     "metadata": {},
     "output_type": "display_data"
    }
   ],
   "source": [
    "plt.figure(figsize=(10,5))\n",
    "plt.subplot(121)\n",
    "plt.title(\"Age = -1\")\n",
    "sns.histplot(data=train[train['age']==-1], x=\"age\", hue=\"survived\", multiple=\"dodge\")\n",
    "plt.subplot(122)\n",
    "plt.title(\"Age = median\")\n",
    "sns.histplot(data=train[train['age']==med], x=\"age\", hue=\"survived\", multiple=\"dodge\")\n",
    "plt.show()"
   ]
  },
  {
   "cell_type": "markdown",
   "id": "9c374806-a4ab-432b-922a-deef4372bf22",
   "metadata": {},
   "source": [
    "We can see that the distribution is pretty similar to the median, so we'll perform median imputation."
   ]
  },
  {
   "cell_type": "code",
   "execution_count": 2476,
   "id": "c2d72bd1-f7e1-4f70-b4ed-30bc3e1710b6",
   "metadata": {},
   "outputs": [],
   "source": [
    "def age_med_impute(data):\n",
    "    med = data[data[\"age\"]>=0][\"age\"].median()\n",
    "    data.loc[data['age']==-1,'age'] = med"
   ]
  },
  {
   "cell_type": "code",
   "execution_count": 2477,
   "id": "c0b60c98-a463-4f7c-a86b-730e6ad10f21",
   "metadata": {},
   "outputs": [],
   "source": [
    "age_med_impute(train)\n",
    "age_med_impute(test)"
   ]
  },
  {
   "cell_type": "code",
   "execution_count": 2478,
   "id": "a07fdcab-99c9-450b-a25c-27b522c932b8",
   "metadata": {},
   "outputs": [
    {
     "data": {
      "image/png": "[encoded data removed]",
      "text/plain": [
       "<Figure size 640x480 with 1 Axes>"
      ]
     },
     "metadata": {},
     "output_type": "display_data"
    }
   ],
   "source": [
    "sns.histplot(data=train[train['age']>=0], x=\"age\", hue = \"survived\", bins=16, multiple=\"dodge\")\n",
    "plt.title(\"Age distribution\")\n",
    "plt.show()"
   ]
  },
  {
   "cell_type": "markdown",
   "id": "696451bc-56a8-41bd-97fb-3d262a88a8c4",
   "metadata": {},
   "source": [
    "We can see that age behaves a bit like a categorical feature, so we will split it into bins:"
   ]
  },
  {
   "cell_type": "code",
   "execution_count": 2479,
   "id": "10446a32-add0-4199-8b85-5d8690466036",
   "metadata": {},
   "outputs": [],
   "source": [
    "def split_bins(data, feature, bins, drop=True):\n",
    "    col_names = []\n",
    "    name = f\"{feature} < {bins[0]}\"\n",
    "    data[name] = (data[feature]<bins[0]).astype(int)\n",
    "    col_names.append(name)\n",
    "    \n",
    "    for i in range(1, len(bins)):\n",
    "        name = f\"{bins[i-1]} <= {feature} < {bins[i]}\"\n",
    "        data[name] = ((data[feature] >= bins[i-1])&(data[feature] < bins[i])).astype(int)\n",
    "        col_names.append(name)\n",
    "    if drop:\n",
    "        data.drop(columns=[feature], inplace=True)\n",
    "    return col_names"
   ]
  },
  {
   "cell_type": "markdown",
   "id": "1f167ca0-e08c-412e-bfc0-7dbb1ff59720",
   "metadata": {},
   "source": [
    "We'll choose bins that have some meaning - if you are a child or an elderly you may have a better chance at survivving. This can also be seen in the histogram above."
   ]
  },
  {
   "cell_type": "code",
   "execution_count": 2480,
   "id": "5adcafdb-735f-452b-b3a1-60c8825e670e",
   "metadata": {},
   "outputs": [],
   "source": [
    "age_bins = [5, 15, 30, 45, 60]\n",
    "feature = \"age\"\n",
    "age_cols = split_bins(train, \"age\", age_bins)\n",
    "_ = split_bins(test, feature, age_bins)"
   ]
  },
  {
   "cell_type": "code",
   "execution_count": 2481,
   "id": "5bc7113d-4bb9-4d27-83d3-dd495dbfac46",
   "metadata": {},
   "outputs": [
    {
     "data": {
      "image/png": "[encoded data removed]",
      "text/plain": [
       "<Figure size 1600x400 with 5 Axes>"
      ]
     },
     "metadata": {},
     "output_type": "display_data"
    }
   ],
   "source": [
    "plt.figure(figsize=(16,4))\n",
    "for i, col in enumerate(age_cols):\n",
    "    plt.subplot(1,5,i+1)\n",
    "    sns.histplot(data=train[train[col]==1], x= col ,hue = \"survived\", multiple=\"dodge\")\n",
    "    plt.xticks([])\n",
    "    if i>0:\n",
    "        plt.ylabel(\"\")\n",
    "plt.show()"
   ]
  },
  {
   "cell_type": "markdown",
   "id": "ffe26861-c603-4deb-a787-2c3e6e28f205",
   "metadata": {},
   "source": [
    "We can see a significant difference in our bins! this means we have captured the data from the age feature."
   ]
  },
  {
   "cell_type": "markdown",
   "id": "509d0e3e-6e63-476b-b3e9-ce40e686d793",
   "metadata": {},
   "source": [
    "### Boat\n",
    "\n",
    "We don't even know what this feature means. let's see if it's worth keeping."
   ]
  },
  {
   "cell_type": "code",
   "execution_count": 2482,
   "id": "beda22df-5659-4ee5-99d7-12d148951ed6",
   "metadata": {},
   "outputs": [
    {
     "data": {
      "text/plain": [
       "count        1047\n",
       "unique         27\n",
       "top       Unknown\n",
       "freq          655\n",
       "Name: boat, dtype: object"
      ]
     },
     "execution_count": 2482,
     "metadata": {},
     "output_type": "execute_result"
    }
   ],
   "source": [
    "train[\"boat\"].describe()"
   ]
  },
  {
   "cell_type": "markdown",
   "id": "39979e0f-7fe2-4707-b9de-44a7493ae952",
   "metadata": {},
   "source": [
    "More than half of the column is unknown, so we'll just drop it."
   ]
  },
  {
   "cell_type": "code",
   "execution_count": 2483,
   "id": "0c1ef439-4ffe-4c8d-8eba-ac3d13e6c168",
   "metadata": {},
   "outputs": [],
   "source": [
    "drop_cols = []\n",
    "drop_cols.append(\"boat\")"
   ]
  },
  {
   "cell_type": "markdown",
   "id": "a19b54ba-a621-4563-aca5-3c20aa2a1661",
   "metadata": {},
   "source": [
    "### Body\n",
    "\n",
    "Again, we don't know anything about this feature."
   ]
  },
  {
   "cell_type": "code",
   "execution_count": 2484,
   "id": "c0fc0a27-dab2-42cb-976a-37a23720c631",
   "metadata": {},
   "outputs": [
    {
     "data": {
      "text/plain": [
       "count    1047.000000\n",
       "mean       13.319962\n",
       "std        54.048716\n",
       "min        -1.000000\n",
       "25%        -1.000000\n",
       "50%        -1.000000\n",
       "75%        -1.000000\n",
       "max       328.000000\n",
       "Name: body, dtype: float64"
      ]
     },
     "execution_count": 2484,
     "metadata": {},
     "output_type": "execute_result"
    }
   ],
   "source": [
    "train[\"body\"].describe()"
   ]
  },
  {
   "cell_type": "code",
   "execution_count": 2485,
   "id": "1d488dba-3365-40e4-a936-2946b566d7d5",
   "metadata": {},
   "outputs": [
    {
     "name": "stdout",
     "output_type": "stream",
     "text": [
      "There are 953 missing values, which make up 91% of the total number of observations\n"
     ]
    }
   ],
   "source": [
    "count_missing_values = (train[\"body\"]==-1).astype(int).sum()\n",
    "tot_count = train[\"body\"].count()\n",
    "print(f\"There are {count_missing_values} missing values, which make up {100*count_missing_values//tot_count}% of the total number of observations\")"
   ]
  },
  {
   "cell_type": "markdown",
   "id": "80d6a8be-782c-4d38-b83e-6b3b3bb98e61",
   "metadata": {},
   "source": [
    "Again, we'll remove the feature:"
   ]
  },
  {
   "cell_type": "code",
   "execution_count": 2486,
   "id": "0aadb941-d485-4d8b-8109-34ed92522cc9",
   "metadata": {},
   "outputs": [],
   "source": [
    "drop_cols.append(\"body\")"
   ]
  },
  {
   "cell_type": "markdown",
   "id": "7cf44508-b9a1-4180-abb4-6a87d18824f5",
   "metadata": {},
   "source": [
    "### Cabin\n",
    "Check if the feature is worth keeping:"
   ]
  },
  {
   "cell_type": "code",
   "execution_count": 2487,
   "id": "df8f7bf2-3515-4f42-a14a-f60e442ca1fa",
   "metadata": {},
   "outputs": [
    {
     "data": {
      "text/plain": [
       "count        1047\n",
       "unique        155\n",
       "top       Unknown\n",
       "freq          820\n",
       "Name: cabin, dtype: object"
      ]
     },
     "execution_count": 2487,
     "metadata": {},
     "output_type": "execute_result"
    }
   ],
   "source": [
    "train[\"cabin\"].describe()"
   ]
  },
  {
   "cell_type": "markdown",
   "id": "16285c10-125b-42fc-8a6e-530195fbfd57",
   "metadata": {},
   "source": [
    "More than half of the column is unknown, so we'll just drop it."
   ]
  },
  {
   "cell_type": "code",
   "execution_count": 2488,
   "id": "443db398-cece-45ec-a74f-78bdc10bd6af",
   "metadata": {},
   "outputs": [],
   "source": [
    "drop_cols.append(\"cabin\")"
   ]
  },
  {
   "cell_type": "markdown",
   "id": "73f22306-c3bb-4db9-b20a-a4a88836f616",
   "metadata": {},
   "source": [
    "### Embarked"
   ]
  },
  {
   "cell_type": "code",
   "execution_count": 2489,
   "id": "b31e5bdb-a29c-4120-b175-2647f037b686",
   "metadata": {},
   "outputs": [
    {
     "data": {
      "image/png": "[encoded data removed]",
      "text/plain": [
       "<Figure size 640x480 with 1 Axes>"
      ]
     },
     "metadata": {},
     "output_type": "display_data"
    }
   ],
   "source": [
    "sns.histplot(data=train, x=\"embarked\", hue = \"survived\", bins=6, multiple=\"dodge\")\n",
    "plt.title(\"Embarked cabin distribution\")\n",
    "plt.show()"
   ]
  },
  {
   "cell_type": "markdown",
   "id": "bb0d70cc-4b0c-4ed7-9ab8-c08aa6373965",
   "metadata": {},
   "source": [
    "We can se that there are no missing values, but there are some extreme ones:"
   ]
  },
  {
   "cell_type": "code",
   "execution_count": 2490,
   "id": "8e9907d8-e11a-408a-afed-db6b3fe16fe5",
   "metadata": {},
   "outputs": [],
   "source": [
    "index = train[train[\"embarked\"]>2].index\n",
    "train.drop(index=index, inplace=True)"
   ]
  },
  {
   "cell_type": "markdown",
   "id": "4bc4ea80-7150-4064-9c0b-94b933afd5ca",
   "metadata": {},
   "source": [
    "We'll later one-hot encode all categorical features."
   ]
  },
  {
   "cell_type": "code",
   "execution_count": 2491,
   "id": "10c0a7bd-8ad4-4a8a-b053-1cb4291801d6",
   "metadata": {},
   "outputs": [],
   "source": [
    "cat_features = []\n",
    "cat_features.append(\"embarked\")"
   ]
  },
  {
   "cell_type": "markdown",
   "id": "15d311fe-ed7f-4fbf-9a3f-95e3a9bb6cf5",
   "metadata": {},
   "source": [
    "### Fare\n",
    "This is a numerical feature, so we'll first check for missing values"
   ]
  },
  {
   "cell_type": "code",
   "execution_count": 2492,
   "id": "74a0205e-a7ec-47a1-b573-2592fc22aa5a",
   "metadata": {},
   "outputs": [
    {
     "data": {
      "text/html": [
       "<div>\n",
       "<style scoped>\n",
       "    .dataframe tbody tr th:only-of-type {\n",
       "        vertical-align: middle;\n",
       "    }\n",
       "\n",
       "    .dataframe tbody tr th {\n",
       "        vertical-align: top;\n",
       "    }\n",
       "\n",
       "    .dataframe thead th {\n",
       "        text-align: right;\n",
       "    }\n",
       "</style>\n",
       "<table border=\"1\" class=\"dataframe\">\n",
       "  <thead>\n",
       "    <tr style=\"text-align: right;\">\n",
       "      <th></th>\n",
       "      <th>boat</th>\n",
       "      <th>body</th>\n",
       "      <th>cabin</th>\n",
       "      <th>embarked</th>\n",
       "      <th>fare</th>\n",
       "      <th>home.dest</th>\n",
       "      <th>name</th>\n",
       "      <th>parch</th>\n",
       "      <th>pclass</th>\n",
       "      <th>sex</th>\n",
       "      <th>sibsp</th>\n",
       "      <th>survived</th>\n",
       "      <th>ticket</th>\n",
       "      <th>age &lt; 5</th>\n",
       "      <th>5 &lt;= age &lt; 15</th>\n",
       "      <th>15 &lt;= age &lt; 30</th>\n",
       "      <th>30 &lt;= age &lt; 45</th>\n",
       "      <th>45 &lt;= age &lt; 60</th>\n",
       "    </tr>\n",
       "  </thead>\n",
       "  <tbody>\n",
       "    <tr>\n",
       "      <th>484</th>\n",
       "      <td>Unknown</td>\n",
       "      <td>261</td>\n",
       "      <td>Unknown</td>\n",
       "      <td>2</td>\n",
       "      <td>-1.0</td>\n",
       "      <td>Unknown</td>\n",
       "      <td>Storey, Mr. Thomas</td>\n",
       "      <td>0</td>\n",
       "      <td>2</td>\n",
       "      <td>0</td>\n",
       "      <td>0</td>\n",
       "      <td>0</td>\n",
       "      <td>3701</td>\n",
       "      <td>0</td>\n",
       "      <td>0</td>\n",
       "      <td>0</td>\n",
       "      <td>0</td>\n",
       "      <td>0</td>\n",
       "    </tr>\n",
       "  </tbody>\n",
       "</table>\n",
       "</div>"
      ],
      "text/plain": [
       "        boat  body    cabin  embarked  fare home.dest                name  \\\n",
       "484  Unknown   261  Unknown         2  -1.0   Unknown  Storey, Mr. Thomas   \n",
       "\n",
       "     parch  pclass  sex  sibsp  survived ticket  age < 5  5 <= age < 15  \\\n",
       "484      0       2    0      0         0   3701        0              0   \n",
       "\n",
       "     15 <= age < 30  30 <= age < 45  45 <= age < 60  \n",
       "484               0               0               0  "
      ]
     },
     "execution_count": 2492,
     "metadata": {},
     "output_type": "execute_result"
    }
   ],
   "source": [
    "train[train[\"fare\"]<0]"
   ]
  },
  {
   "cell_type": "markdown",
   "id": "5eef7478-d04a-43dc-9b97-7e5db50a87f4",
   "metadata": {},
   "source": [
    "Just one missing value, so we'll remove the row."
   ]
  },
  {
   "cell_type": "code",
   "execution_count": 2493,
   "id": "d78808fc-0041-4542-b6eb-03960b89c9af",
   "metadata": {},
   "outputs": [],
   "source": [
    "index = train[train[\"fare\"]<0].index\n",
    "train.drop(index=index, inplace=True)"
   ]
  },
  {
   "cell_type": "code",
   "execution_count": 2494,
   "id": "78fb6ba8-2fc8-454a-aa3a-2a0769afb9b1",
   "metadata": {},
   "outputs": [
    {
     "data": {
      "image/png": "[encoded data removed]",
      "text/plain": [
       "<Figure size 640x480 with 1 Axes>"
      ]
     },
     "metadata": {},
     "output_type": "display_data"
    }
   ],
   "source": [
    "sns.histplot(data=train, x=\"fare\", hue = \"survived\",bins=20, multiple=\"dodge\")\n",
    "plt.title(\"Fare distribution\")\n",
    "plt.show()"
   ]
  },
  {
   "cell_type": "markdown",
   "id": "fb19c12f-5676-4592-9042-8954e20435e7",
   "metadata": {},
   "source": [
    "We can see that below 50, the chance of surviving is less then 50%, and above 50, it is larger. We'll try to split into bins:"
   ]
  },
  {
   "cell_type": "code",
   "execution_count": 2495,
   "id": "4bd9fffd-48fb-4266-a391-281b1bbbfe2b",
   "metadata": {},
   "outputs": [],
   "source": [
    "fare_bins = [25, 50, 75, 100]\n",
    "feature = \"fare\"\n",
    "fare_cols = split_bins(train, feature, fare_bins)\n",
    "_ = split_bins(test, feature, fare_bins)"
   ]
  },
  {
   "cell_type": "code",
   "execution_count": 2496,
   "id": "029c8c71-098d-4a9c-ab45-245cd8ebb060",
   "metadata": {},
   "outputs": [
    {
     "data": {
      "image/png": "[encoded data removed]",
      "text/plain": [
       "<Figure size 1600x400 with 4 Axes>"
      ]
     },
     "metadata": {},
     "output_type": "display_data"
    }
   ],
   "source": [
    "plt.figure(figsize=(16,4))\n",
    "for i, col in enumerate(fare_cols):\n",
    "    plt.subplot(1,4,i+1)\n",
    "    sns.histplot(data=train, x= col ,hue = \"survived\", multiple=\"dodge\", bins=4)\n",
    "    plt.xticks([])\n",
    "    if i>0:\n",
    "        plt.ylabel(\"\")\n",
    "plt.show()"
   ]
  },
  {
   "cell_type": "markdown",
   "id": "823d580a-4773-4bae-9f6c-f1e9a063e012",
   "metadata": {},
   "source": [
    "I believe this captures the information of this feature quite well."
   ]
  },
  {
   "cell_type": "markdown",
   "id": "1a31346a-2391-4be7-a85d-4d3cf99e2a1e",
   "metadata": {},
   "source": [
    "### Home Destination, Name, Ticket\n",
    "These are all columns that shouldn't store any information about survival likelihood. In addition, they just complicate our dataset, so we'll just drop them."
   ]
  },
  {
   "cell_type": "code",
   "execution_count": 2497,
   "id": "35531e4a-1493-4181-9f19-35fea5c976af",
   "metadata": {},
   "outputs": [],
   "source": [
    "drop_cols.extend([\"home.dest\", \"name\", \"ticket\"])"
   ]
  },
  {
   "cell_type": "markdown",
   "id": "64436387-12f3-4844-b68e-9994af256bd5",
   "metadata": {},
   "source": [
    "### Passenger class"
   ]
  },
  {
   "cell_type": "code",
   "execution_count": 2498,
   "id": "065b6800-e033-4861-a932-91e2a19eb0f5",
   "metadata": {},
   "outputs": [
    {
     "data": {
      "image/png": "[encoded data removed]",
      "text/plain": [
       "<Figure size 640x480 with 1 Axes>"
      ]
     },
     "metadata": {},
     "output_type": "display_data"
    }
   ],
   "source": [
    "sns.histplot(data=train, x=\"pclass\", hue = \"survived\", bins=6, multiple=\"dodge\")\n",
    "plt.title(\"Passenger class distribution\")\n",
    "plt.show()"
   ]
  },
  {
   "cell_type": "markdown",
   "id": "5d32e5f0-4620-4d4d-b6f4-a85f9cd4015f",
   "metadata": {},
   "source": [
    "No missing values, so we can just add to the categorical features list:"
   ]
  },
  {
   "cell_type": "code",
   "execution_count": 2499,
   "id": "36d52cc1-7b5b-4917-8fea-eeb7baca050c",
   "metadata": {},
   "outputs": [],
   "source": [
    "cat_features.append(\"pclass\")"
   ]
  },
  {
   "cell_type": "markdown",
   "id": "8cf4a7bb-893f-4c41-a713-731121dc59b4",
   "metadata": {},
   "source": [
    "### Sex"
   ]
  },
  {
   "cell_type": "code",
   "execution_count": 2500,
   "id": "8f0bb191-8209-49ff-b554-7f205bb0b03a",
   "metadata": {},
   "outputs": [
    {
     "data": {
      "image/png": "[encoded data removed]",
      "text/plain": [
       "<Figure size 640x480 with 1 Axes>"
      ]
     },
     "metadata": {},
     "output_type": "display_data"
    }
   ],
   "source": [
    "sns.histplot(data=train, x=\"sex\", hue = \"survived\", bins=4, multiple=\"dodge\")\n",
    "plt.title(\"Sex distribution\")\n",
    "plt.show()"
   ]
  },
  {
   "cell_type": "markdown",
   "id": "72b4c5c8-28d7-4c29-a286-c1d18b3a830a",
   "metadata": {},
   "source": [
    "No problems with this feature! It also seems to be important."
   ]
  },
  {
   "cell_type": "markdown",
   "id": "29565c0c-cf1d-4a8e-a766-22d39590cc61",
   "metadata": {},
   "source": [
    "### Parents and Children"
   ]
  },
  {
   "cell_type": "code",
   "execution_count": 2501,
   "id": "4f3f598e-6971-4bc0-baaa-5ba4f2cdfa99",
   "metadata": {},
   "outputs": [
    {
     "data": {
      "image/png": "[encoded data removed]",
      "text/plain": [
       "<Figure size 640x480 with 1 Axes>"
      ]
     },
     "metadata": {},
     "output_type": "display_data"
    }
   ],
   "source": [
    "sns.histplot(data=train, x=\"parch\", hue = \"survived\", bins=20, multiple=\"dodge\")\n",
    "plt.title(\"Number of parents and children distribution\")\n",
    "plt.show()"
   ]
  },
  {
   "cell_type": "markdown",
   "id": "4e459ce5-7800-437c-a3df-049342f56cb3",
   "metadata": {},
   "source": [
    "We'll again split into bins, where we'll just consider whether someone had parents or children with them on board, regardless of the number."
   ]
  },
  {
   "cell_type": "code",
   "execution_count": 2502,
   "id": "4ba87527-d56e-43ef-83fe-c05241d1cd35",
   "metadata": {},
   "outputs": [],
   "source": [
    "parch_bins = [1]\n",
    "feature = \"parch\"\n",
    "parch_cols = split_bins(train, feature, parch_bins)\n",
    "_ = split_bins(test, feature, parch_bins)"
   ]
  },
  {
   "cell_type": "code",
   "execution_count": 2503,
   "id": "b170847c-6afc-40dd-affa-c46756ce0cbc",
   "metadata": {},
   "outputs": [
    {
     "data": {
      "image/png": "[encoded data removed]",
      "text/plain": [
       "<Figure size 400x400 with 1 Axes>"
      ]
     },
     "metadata": {},
     "output_type": "display_data"
    }
   ],
   "source": [
    "plt.figure(figsize=(4,4))\n",
    "sns.histplot(data=train, x=parch_cols[0] ,hue=\"survived\", bins=4, multiple=\"dodge\")\n",
    "plt.show()"
   ]
  },
  {
   "cell_type": "markdown",
   "id": "af121710-49af-42b0-9b68-414c9690c2f6",
   "metadata": {},
   "source": [
    "### Spouses and Siblings"
   ]
  },
  {
   "cell_type": "code",
   "execution_count": 2504,
   "id": "4f78fd51-af95-4ae3-ae63-25caf7d4b833",
   "metadata": {},
   "outputs": [
    {
     "data": {
      "image/png": "[encoded data removed]",
      "text/plain": [
       "<Figure size 640x480 with 1 Axes>"
      ]
     },
     "metadata": {},
     "output_type": "display_data"
    }
   ],
   "source": [
    "sns.histplot(data=train, x=\"sibsp\", hue = \"survived\", bins=20, multiple=\"dodge\")\n",
    "plt.title(\"Number of spouses and siblings distribution\")\n",
    "plt.show()"
   ]
  },
  {
   "cell_type": "markdown",
   "id": "0cc06b41-e0bd-412d-9ab6-ed8f646cb831",
   "metadata": {},
   "source": [
    "We can notice that when there are 1 or 2 siblings or spouses, the chances of survival are better. we'll split accordingly"
   ]
  },
  {
   "cell_type": "code",
   "execution_count": 2505,
   "id": "a30f7261-e785-4d69-998d-e1240cfb89c0",
   "metadata": {},
   "outputs": [],
   "source": [
    "sibsp_bins = [1,3]\n",
    "feature = \"sibsp\"\n",
    "sibsp_cols = split_bins(train, feature, sibsp_bins)\n",
    "_ = split_bins(test, feature, sibsp_bins)"
   ]
  },
  {
   "cell_type": "code",
   "execution_count": 2506,
   "id": "e12d0605-775b-4c1d-9081-8214031f3684",
   "metadata": {},
   "outputs": [
    {
     "data": {
      "image/png": "[encoded data removed]",
      "text/plain": [
       "<Figure size 400x400 with 1 Axes>"
      ]
     },
     "metadata": {},
     "output_type": "display_data"
    }
   ],
   "source": [
    "plt.figure(figsize=(4,4))\n",
    "sns.histplot(data=train, x=sibsp_cols[1] ,hue=\"survived\", bins=4, multiple=\"dodge\")\n",
    "plt.show()"
   ]
  },
  {
   "cell_type": "markdown",
   "id": "f1847c99-b4fb-4b6f-8a51-e7b5890d59df",
   "metadata": {},
   "source": [
    "## Feature Engineering <a class=\"anchor\" id=\"FeatureEngineering\"></a>\n",
    "\n",
    "We are finally done with pre-processing. we just need to drop the irrelevant columns, and one-hot encode the categorical ones:"
   ]
  },
  {
   "cell_type": "code",
   "execution_count": 2507,
   "id": "2ee40f37-2882-43a4-a8a6-fa588362f041",
   "metadata": {},
   "outputs": [],
   "source": [
    "train.reset_index(inplace=True, drop=True)\n",
    "test.reset_index(inplace=True, drop=True)"
   ]
  },
  {
   "cell_type": "code",
   "execution_count": 2508,
   "id": "ac73877c-fe4d-4e99-92ed-b12dc9d58240",
   "metadata": {},
   "outputs": [],
   "source": [
    "from sklearn.preprocessing import OneHotEncoder\n",
    "\n",
    "# # One-hot encode the categorical features\n",
    "cat_encoder = OneHotEncoder(sparse_output=False, drop=\"first\") # drop=\"first\" to avoid multicollinearity\n",
    "train_transformed = cat_encoder.fit_transform(train[cat_features])\n",
    "test_transformed = cat_encoder.transform(test[cat_features])\n",
    "\n",
    "# # Add to df\n",
    "new_cols = cat_encoder.get_feature_names_out()\n",
    "train[new_cols] = pd.DataFrame(train_transformed.astype(int), columns = new_cols)\n",
    "test[new_cols] = pd.DataFrame(test_transformed.astype(int), columns = new_cols)"
   ]
  },
  {
   "cell_type": "code",
   "execution_count": 2509,
   "id": "ac7d63cb-0d2d-4066-a98f-17f9b047f6d6",
   "metadata": {},
   "outputs": [],
   "source": [
    "# Remove columns\n",
    "drop_cols.extend([\"embarked\", \"pclass\"]) \n",
    "train.drop(columns=drop_cols, inplace=True)\n",
    "test.drop(columns=drop_cols, inplace=True)"
   ]
  },
  {
   "cell_type": "code",
   "execution_count": 2510,
   "id": "424b48ad-383b-43d7-94ab-7d9eec5fd851",
   "metadata": {},
   "outputs": [
    {
     "data": {
      "text/html": [
       "<div>\n",
       "<style scoped>\n",
       "    .dataframe tbody tr th:only-of-type {\n",
       "        vertical-align: middle;\n",
       "    }\n",
       "\n",
       "    .dataframe tbody tr th {\n",
       "        vertical-align: top;\n",
       "    }\n",
       "\n",
       "    .dataframe thead th {\n",
       "        text-align: right;\n",
       "    }\n",
       "</style>\n",
       "<table border=\"1\" class=\"dataframe\">\n",
       "  <thead>\n",
       "    <tr style=\"text-align: right;\">\n",
       "      <th></th>\n",
       "      <th>sex</th>\n",
       "      <th>survived</th>\n",
       "      <th>age &lt; 5</th>\n",
       "      <th>5 &lt;= age &lt; 15</th>\n",
       "      <th>15 &lt;= age &lt; 30</th>\n",
       "      <th>30 &lt;= age &lt; 45</th>\n",
       "      <th>45 &lt;= age &lt; 60</th>\n",
       "      <th>fare &lt; 25</th>\n",
       "      <th>25 &lt;= fare &lt; 50</th>\n",
       "      <th>50 &lt;= fare &lt; 75</th>\n",
       "      <th>75 &lt;= fare &lt; 100</th>\n",
       "      <th>parch &lt; 1</th>\n",
       "      <th>sibsp &lt; 1</th>\n",
       "      <th>1 &lt;= sibsp &lt; 3</th>\n",
       "      <th>embarked_1</th>\n",
       "      <th>embarked_2</th>\n",
       "      <th>pclass_1</th>\n",
       "      <th>pclass_2</th>\n",
       "    </tr>\n",
       "  </thead>\n",
       "  <tbody>\n",
       "    <tr>\n",
       "      <th>0</th>\n",
       "      <td>0</td>\n",
       "      <td>1</td>\n",
       "      <td>0</td>\n",
       "      <td>0</td>\n",
       "      <td>1</td>\n",
       "      <td>0</td>\n",
       "      <td>0</td>\n",
       "      <td>1</td>\n",
       "      <td>0</td>\n",
       "      <td>0</td>\n",
       "      <td>0</td>\n",
       "      <td>0</td>\n",
       "      <td>0</td>\n",
       "      <td>1</td>\n",
       "      <td>0</td>\n",
       "      <td>0</td>\n",
       "      <td>0</td>\n",
       "      <td>1</td>\n",
       "    </tr>\n",
       "    <tr>\n",
       "      <th>1</th>\n",
       "      <td>0</td>\n",
       "      <td>1</td>\n",
       "      <td>0</td>\n",
       "      <td>1</td>\n",
       "      <td>0</td>\n",
       "      <td>0</td>\n",
       "      <td>0</td>\n",
       "      <td>1</td>\n",
       "      <td>0</td>\n",
       "      <td>0</td>\n",
       "      <td>0</td>\n",
       "      <td>1</td>\n",
       "      <td>0</td>\n",
       "      <td>1</td>\n",
       "      <td>0</td>\n",
       "      <td>0</td>\n",
       "      <td>0</td>\n",
       "      <td>1</td>\n",
       "    </tr>\n",
       "    <tr>\n",
       "      <th>2</th>\n",
       "      <td>1</td>\n",
       "      <td>0</td>\n",
       "      <td>0</td>\n",
       "      <td>0</td>\n",
       "      <td>1</td>\n",
       "      <td>0</td>\n",
       "      <td>0</td>\n",
       "      <td>1</td>\n",
       "      <td>0</td>\n",
       "      <td>0</td>\n",
       "      <td>0</td>\n",
       "      <td>0</td>\n",
       "      <td>0</td>\n",
       "      <td>1</td>\n",
       "      <td>0</td>\n",
       "      <td>1</td>\n",
       "      <td>1</td>\n",
       "      <td>0</td>\n",
       "    </tr>\n",
       "    <tr>\n",
       "      <th>3</th>\n",
       "      <td>1</td>\n",
       "      <td>0</td>\n",
       "      <td>0</td>\n",
       "      <td>0</td>\n",
       "      <td>0</td>\n",
       "      <td>1</td>\n",
       "      <td>0</td>\n",
       "      <td>1</td>\n",
       "      <td>0</td>\n",
       "      <td>0</td>\n",
       "      <td>0</td>\n",
       "      <td>1</td>\n",
       "      <td>1</td>\n",
       "      <td>0</td>\n",
       "      <td>0</td>\n",
       "      <td>1</td>\n",
       "      <td>0</td>\n",
       "      <td>1</td>\n",
       "    </tr>\n",
       "    <tr>\n",
       "      <th>4</th>\n",
       "      <td>1</td>\n",
       "      <td>0</td>\n",
       "      <td>0</td>\n",
       "      <td>0</td>\n",
       "      <td>0</td>\n",
       "      <td>1</td>\n",
       "      <td>0</td>\n",
       "      <td>0</td>\n",
       "      <td>1</td>\n",
       "      <td>0</td>\n",
       "      <td>0</td>\n",
       "      <td>0</td>\n",
       "      <td>1</td>\n",
       "      <td>0</td>\n",
       "      <td>0</td>\n",
       "      <td>1</td>\n",
       "      <td>0</td>\n",
       "      <td>1</td>\n",
       "    </tr>\n",
       "  </tbody>\n",
       "</table>\n",
       "</div>"
      ],
      "text/plain": [
       "   sex  survived  age < 5  5 <= age < 15  15 <= age < 30  30 <= age < 45  \\\n",
       "0    0         1        0              0               1               0   \n",
       "1    0         1        0              1               0               0   \n",
       "2    1         0        0              0               1               0   \n",
       "3    1         0        0              0               0               1   \n",
       "4    1         0        0              0               0               1   \n",
       "\n",
       "   45 <= age < 60  fare < 25  25 <= fare < 50  50 <= fare < 75  \\\n",
       "0               0          1                0                0   \n",
       "1               0          1                0                0   \n",
       "2               0          1                0                0   \n",
       "3               0          1                0                0   \n",
       "4               0          0                1                0   \n",
       "\n",
       "   75 <= fare < 100  parch < 1  sibsp < 1  1 <= sibsp < 3  embarked_1  \\\n",
       "0                 0          0          0               1           0   \n",
       "1                 0          1          0               1           0   \n",
       "2                 0          0          0               1           0   \n",
       "3                 0          1          1               0           0   \n",
       "4                 0          0          1               0           0   \n",
       "\n",
       "   embarked_2  pclass_1  pclass_2  \n",
       "0           0         0         1  \n",
       "1           0         0         1  \n",
       "2           1         1         0  \n",
       "3           1         0         1  \n",
       "4           1         0         1  "
      ]
     },
     "execution_count": 2510,
     "metadata": {},
     "output_type": "execute_result"
    }
   ],
   "source": [
    "train.head()"
   ]
  },
  {
   "cell_type": "markdown",
   "id": "f7c06405-788e-47a9-bd4b-348b2cf4b481",
   "metadata": {},
   "source": [
    "We are left with a completely binary dataframe!"
   ]
  },
  {
   "cell_type": "markdown",
   "id": "26c71c3a-3886-4de8-af78-2c5735b53137",
   "metadata": {},
   "source": [
    "## Model Selection <a class=\"anchor\" id=\"ModelSelection\"></a>\n",
    "\n",
    "We'll first split the data:"
   ]
  },
  {
   "cell_type": "code",
   "execution_count": 2511,
   "id": "cae58dc7-57a4-43df-9117-a535a5198d1a",
   "metadata": {},
   "outputs": [],
   "source": [
    "y_train = train[\"survived\"].copy()\n",
    "X_train = train.drop(columns=[\"survived\"])\n",
    "\n",
    "y_test = test[\"survived\"].copy()\n",
    "X_test = test.drop(columns=[\"survived\"])"
   ]
  },
  {
   "cell_type": "markdown",
   "id": "3e463038-1cc7-419a-aa29-fe18f2f34329",
   "metadata": {},
   "source": [
    "Defining our models:"
   ]
  },
  {
   "cell_type": "code",
   "execution_count": 2512,
   "id": "d67a15a7-7f43-40cd-8ee4-5f4a1d5ae993",
   "metadata": {},
   "outputs": [],
   "source": [
    "from sklearn.linear_model import LogisticRegression\n",
    "from sklearn.tree import DecisionTreeClassifier\n",
    "from sklearn.svm import SVC\n",
    "from sklearn.ensemble import BaggingClassifier, GradientBoostingClassifier, AdaBoostClassifier\n",
    "from xgboost import XGBClassifier\n",
    "from lightgbm import LGBMClassifier\n",
    "from sklearn.model_selection import cross_val_score, GridSearchCV, RepeatedKFold"
   ]
  },
  {
   "cell_type": "code",
   "execution_count": 2513,
   "id": "41fb0477-4838-433b-8c0e-37c3a3f09c01",
   "metadata": {},
   "outputs": [],
   "source": [
    "logreg_clf = LogisticRegression(random_state=42)\n",
    "\n",
    "tree_clf = DecisionTreeClassifier(random_state=42)\n",
    "\n",
    "svm_clf = SVC(random_state=42)\n",
    "\n",
    "bag_clf = BaggingClassifier(\n",
    "    DecisionTreeClassifier(max_depth=2), # week learner\n",
    "    n_estimators=100, # number of learners to train \n",
    "    max_samples=200,  # The number of samples to draw from X to train each base estimator\n",
    "    bootstrap=True,  # Whether features are drawn with replacement\n",
    "    random_state=42, # so we can replicate the results,\n",
    "    oob_score=True # Whether to use out-of-bag samples to estimate the generalization error\n",
    ")\n",
    "\n",
    "forest_clf = RandomForestClassifier(max_depth=4, n_estimators=100, random_state=42)\n",
    "\n",
    "gb_clf = GradientBoostingClassifier(max_depth=4, n_estimators=100, random_state=42)\n",
    "\n",
    "ada_clf = AdaBoostClassifier(n_estimators=100, random_state=42, algorithm=\"SAMME\")\n",
    "\n",
    "xgb_clf = XGBClassifier(random_state=42)\n",
    "\n",
    "lgbm_clf = LGBMClassifier(random_state=42, verbose=-1)"
   ]
  },
  {
   "cell_type": "code",
   "execution_count": 2514,
   "id": "5c523536-0cdc-43ac-acfb-bc720b07848f",
   "metadata": {},
   "outputs": [],
   "source": [
    "models = {\n",
    "    \"Logistic Regression\": logreg_clf, \n",
    "    \"Decision Tree\": tree_clf,\n",
    "    \"SVM\" : svm_clf,\n",
    "    \"Bagging Classifier\": bag_clf,\n",
    "    \"Random Forest\": forest_clf,\n",
    "    \"Gradient Boosting\": gb_clf,\n",
    "    \"Adaboost\": ada_clf,\n",
    "    \"XGBoost\": xgb_clf,\n",
    "    \"LightGBM\": lgbm_clf\n",
    "         }"
   ]
  },
  {
   "cell_type": "markdown",
   "id": "7e1bbea4-532f-454a-9193-bf6a617529bc",
   "metadata": {},
   "source": [
    "We'll perform cross-validation to decide on the best model, using accuracy as our metric."
   ]
  },
  {
   "cell_type": "code",
   "execution_count": 2515,
   "id": "6f437c9c-9df7-4e86-87c3-7bc16375066e",
   "metadata": {},
   "outputs": [],
   "source": [
    "results = {}\n",
    "n_splits = 10\n",
    "n_repeats = 3\n",
    "# define the repeated k-fold\n",
    "rkf = RepeatedKFold(n_splits=n_splits, n_repeats=n_repeats)\n",
    "for model_name, model in models.items():\n",
    "    cv_scores = cross_val_score(model, X_train.values, y_train.values, cv=rkf, scoring='accuracy')\n",
    "    results[model_name] = cv_scores"
   ]
  },
  {
   "cell_type": "code",
   "execution_count": 2516,
   "id": "1a6ad40d-5a30-4dc5-886d-9a08097c60f5",
   "metadata": {},
   "outputs": [],
   "source": [
    "#calculate mean accuracies for all models\n",
    "means = []\n",
    "stds = []\n",
    "for scores in results.values():\n",
    "    means.append(np.mean(scores))\n",
    "    stds.append(np.std(scores))\n",
    "\n",
    "results_dict = {\"model\": models.keys(), \"mean accuracy\": means, \"st. dev. of accuracy\": stds}\n",
    "results_df = pd.DataFrame(data=results_dict).sort_values(by=\"mean accuracy\", axis=0, ascending=False).reset_index(drop=True)"
   ]
  },
  {
   "cell_type": "code",
   "execution_count": 2517,
   "id": "a3830180-81d0-4765-b5f8-a49fc0dbdf8b",
   "metadata": {},
   "outputs": [
    {
     "data": {
      "text/html": [
       "<div>\n",
       "<style scoped>\n",
       "    .dataframe tbody tr th:only-of-type {\n",
       "        vertical-align: middle;\n",
       "    }\n",
       "\n",
       "    .dataframe tbody tr th {\n",
       "        vertical-align: top;\n",
       "    }\n",
       "\n",
       "    .dataframe thead th {\n",
       "        text-align: right;\n",
       "    }\n",
       "</style>\n",
       "<table border=\"1\" class=\"dataframe\">\n",
       "  <thead>\n",
       "    <tr style=\"text-align: right;\">\n",
       "      <th></th>\n",
       "      <th>model</th>\n",
       "      <th>mean accuracy</th>\n",
       "      <th>st. dev. of accuracy</th>\n",
       "    </tr>\n",
       "  </thead>\n",
       "  <tbody>\n",
       "    <tr>\n",
       "      <th>0</th>\n",
       "      <td>XGBoost</td>\n",
       "      <td>0.788947</td>\n",
       "      <td>0.039748</td>\n",
       "    </tr>\n",
       "    <tr>\n",
       "      <th>1</th>\n",
       "      <td>SVM</td>\n",
       "      <td>0.788590</td>\n",
       "      <td>0.042441</td>\n",
       "    </tr>\n",
       "    <tr>\n",
       "      <th>2</th>\n",
       "      <td>Decision Tree</td>\n",
       "      <td>0.788004</td>\n",
       "      <td>0.041345</td>\n",
       "    </tr>\n",
       "    <tr>\n",
       "      <th>3</th>\n",
       "      <td>Random Forest</td>\n",
       "      <td>0.786700</td>\n",
       "      <td>0.035662</td>\n",
       "    </tr>\n",
       "    <tr>\n",
       "      <th>4</th>\n",
       "      <td>LightGBM</td>\n",
       "      <td>0.783547</td>\n",
       "      <td>0.028120</td>\n",
       "    </tr>\n",
       "    <tr>\n",
       "      <th>5</th>\n",
       "      <td>Logistic Regression</td>\n",
       "      <td>0.783538</td>\n",
       "      <td>0.040725</td>\n",
       "    </tr>\n",
       "    <tr>\n",
       "      <th>6</th>\n",
       "      <td>Gradient Boosting</td>\n",
       "      <td>0.781883</td>\n",
       "      <td>0.040769</td>\n",
       "    </tr>\n",
       "    <tr>\n",
       "      <th>7</th>\n",
       "      <td>Adaboost</td>\n",
       "      <td>0.777814</td>\n",
       "      <td>0.032887</td>\n",
       "    </tr>\n",
       "    <tr>\n",
       "      <th>8</th>\n",
       "      <td>Bagging Classifier</td>\n",
       "      <td>0.766557</td>\n",
       "      <td>0.036814</td>\n",
       "    </tr>\n",
       "  </tbody>\n",
       "</table>\n",
       "</div>"
      ],
      "text/plain": [
       "                 model  mean accuracy  st. dev. of accuracy\n",
       "0              XGBoost       0.788947              0.039748\n",
       "1                  SVM       0.788590              0.042441\n",
       "2        Decision Tree       0.788004              0.041345\n",
       "3        Random Forest       0.786700              0.035662\n",
       "4             LightGBM       0.783547              0.028120\n",
       "5  Logistic Regression       0.783538              0.040725\n",
       "6    Gradient Boosting       0.781883              0.040769\n",
       "7             Adaboost       0.777814              0.032887\n",
       "8   Bagging Classifier       0.766557              0.036814"
      ]
     },
     "execution_count": 2517,
     "metadata": {},
     "output_type": "execute_result"
    }
   ],
   "source": [
    "results_df"
   ]
  },
  {
   "cell_type": "markdown",
   "id": "8cf10911-f2bd-4a6f-a629-6a9d63e843a6",
   "metadata": {},
   "source": [
    "Seems like SVM did the best job. We'll continue with some hyperparameter tuning."
   ]
  },
  {
   "cell_type": "markdown",
   "id": "12604daf-786b-465a-a1d3-cc63a9391692",
   "metadata": {},
   "source": [
    "## Hyperparameter Tuning <a class=\"anchor\" id=\"HyperparameterTuning\"></a>\n",
    "\n",
    "SVM has a couple main parameters. First, a kernel must be chosen, where the most popular choices are RBF or Polynomial.\n",
    "\n",
    "There is one hyperparameter which in present in all models:\n",
    "\n",
    "$C$ - a regularization term, penalizes missclasifications. Larger $C$ corresponds with a bigger penalty.\n",
    "\n",
    "In addition, each kernel has its own parameters:\n",
    "* For RBF:\n",
    "    * $\\gamma$ -  tightens the gaussian the larger it is.\n",
    "* For Poly:\n",
    "    * $r$ - the bias of the kernel\n",
    "    * $d$ - the degree of the kernel\n"
   ]
  },
  {
   "cell_type": "code",
   "execution_count": 2518,
   "id": "3404caad-b794-4c51-a578-fbd76d05b5af",
   "metadata": {},
   "outputs": [
    {
     "data": {
      "text/html": [
       "<style>#sk-container-id-14 {\n",
       "  /* Definition of color scheme common for light and dark mode */\n",
       "  --sklearn-color-text: black;\n",
       "  --sklearn-color-line: gray;\n",
       "  /* Definition of color scheme for unfitted estimators */\n",
       "  --sklearn-color-unfitted-level-0: #fff5e6;\n",
       "  --sklearn-color-unfitted-level-1: #f6e4d2;\n",
       "  --sklearn-color-unfitted-level-2: #ffe0b3;\n",
       "  --sklearn-color-unfitted-level-3: chocolate;\n",
       "  /* Definition of color scheme for fitted estimators */\n",
       "  --sklearn-color-fitted-level-0: #f0f8ff;\n",
       "  --sklearn-color-fitted-level-1: #d4ebff;\n",
       "  --sklearn-color-fitted-level-2: #b3dbfd;\n",
       "  --sklearn-color-fitted-level-3: cornflowerblue;\n",
       "\n",
       "  /* Specific color for light theme */\n",
       "  --sklearn-color-text-on-default-background: var(--sg-text-color, var(--theme-code-foreground, var(--jp-content-font-color1, black)));\n",
       "  --sklearn-color-background: var(--sg-background-color, var(--theme-background, var(--jp-layout-color0, white)));\n",
       "  --sklearn-color-border-box: var(--sg-text-color, var(--theme-code-foreground, var(--jp-content-font-color1, black)));\n",
       "  --sklearn-color-icon: #696969;\n",
       "\n",
       "  @media (prefers-color-scheme: dark) {\n",
       "    /* Redefinition of color scheme for dark theme */\n",
       "    --sklearn-color-text-on-default-background: var(--sg-text-color, var(--theme-code-foreground, var(--jp-content-font-color1, white)));\n",
       "    --sklearn-color-background: var(--sg-background-color, var(--theme-background, var(--jp-layout-color0, #111)));\n",
       "    --sklearn-color-border-box: var(--sg-text-color, var(--theme-code-foreground, var(--jp-content-font-color1, white)));\n",
       "    --sklearn-color-icon: #878787;\n",
       "  }\n",
       "}\n",
       "\n",
       "#sk-container-id-14 {\n",
       "  color: var(--sklearn-color-text);\n",
       "}\n",
       "\n",
       "#sk-container-id-14 pre {\n",
       "  padding: 0;\n",
       "}\n",
       "\n",
       "#sk-container-id-14 input.sk-hidden--visually {\n",
       "  border: 0;\n",
       "  clip: rect(1px 1px 1px 1px);\n",
       "  clip: rect(1px, 1px, 1px, 1px);\n",
       "  height: 1px;\n",
       "  margin: -1px;\n",
       "  overflow: hidden;\n",
       "  padding: 0;\n",
       "  position: absolute;\n",
       "  width: 1px;\n",
       "}\n",
       "\n",
       "#sk-container-id-14 div.sk-dashed-wrapped {\n",
       "  border: 1px dashed var(--sklearn-color-line);\n",
       "  margin: 0 0.4em 0.5em 0.4em;\n",
       "  box-sizing: border-box;\n",
       "  padding-bottom: 0.4em;\n",
       "  background-color: var(--sklearn-color-background);\n",
       "}\n",
       "\n",
       "#sk-container-id-14 div.sk-container {\n",
       "  /* jupyter's `normalize.less` sets `[hidden] { display: none; }`\n",
       "     but bootstrap.min.css set `[hidden] { display: none !important; }`\n",
       "     so we also need the `!important` here to be able to override the\n",
       "     default hidden behavior on the sphinx rendered scikit-learn.org.\n",
       "     See: https://github.com/scikit-learn/scikit-learn/issues/21755 */\n",
       "  display: inline-block !important;\n",
       "  position: relative;\n",
       "}\n",
       "\n",
       "#sk-container-id-14 div.sk-text-repr-fallback {\n",
       "  display: none;\n",
       "}\n",
       "\n",
       "div.sk-parallel-item,\n",
       "div.sk-serial,\n",
       "div.sk-item {\n",
       "  /* draw centered vertical line to link estimators */\n",
       "  background-image: linear-gradient(var(--sklearn-color-text-on-default-background), var(--sklearn-color-text-on-default-background));\n",
       "  background-size: 2px 100%;\n",
       "  background-repeat: no-repeat;\n",
       "  background-position: center center;\n",
       "}\n",
       "\n",
       "/* Parallel-specific style estimator block */\n",
       "\n",
       "#sk-container-id-14 div.sk-parallel-item::after {\n",
       "  content: \"\";\n",
       "  width: 100%;\n",
       "  border-bottom: 2px solid var(--sklearn-color-text-on-default-background);\n",
       "  flex-grow: 1;\n",
       "}\n",
       "\n",
       "#sk-container-id-14 div.sk-parallel {\n",
       "  display: flex;\n",
       "  align-items: stretch;\n",
       "  justify-content: center;\n",
       "  background-color: var(--sklearn-color-background);\n",
       "  position: relative;\n",
       "}\n",
       "\n",
       "#sk-container-id-14 div.sk-parallel-item {\n",
       "  display: flex;\n",
       "  flex-direction: column;\n",
       "}\n",
       "\n",
       "#sk-container-id-14 div.sk-parallel-item:first-child::after {\n",
       "  align-self: flex-end;\n",
       "  width: 50%;\n",
       "}\n",
       "\n",
       "#sk-container-id-14 div.sk-parallel-item:last-child::after {\n",
       "  align-self: flex-start;\n",
       "  width: 50%;\n",
       "}\n",
       "\n",
       "#sk-container-id-14 div.sk-parallel-item:only-child::after {\n",
       "  width: 0;\n",
       "}\n",
       "\n",
       "/* Serial-specific style estimator block */\n",
       "\n",
       "#sk-container-id-14 div.sk-serial {\n",
       "  display: flex;\n",
       "  flex-direction: column;\n",
       "  align-items: center;\n",
       "  background-color: var(--sklearn-color-background);\n",
       "  padding-right: 1em;\n",
       "  padding-left: 1em;\n",
       "}\n",
       "\n",
       "\n",
       "/* Toggleable style: style used for estimator/Pipeline/ColumnTransformer box that is\n",
       "clickable and can be expanded/collapsed.\n",
       "- Pipeline and ColumnTransformer use this feature and define the default style\n",
       "- Estimators will overwrite some part of the style using the `sk-estimator` class\n",
       "*/\n",
       "\n",
       "/* Pipeline and ColumnTransformer style (default) */\n",
       "\n",
       "#sk-container-id-14 div.sk-toggleable {\n",
       "  /* Default theme specific background. It is overwritten whether we have a\n",
       "  specific estimator or a Pipeline/ColumnTransformer */\n",
       "  background-color: var(--sklearn-color-background);\n",
       "}\n",
       "\n",
       "/* Toggleable label */\n",
       "#sk-container-id-14 label.sk-toggleable__label {\n",
       "  cursor: pointer;\n",
       "  display: block;\n",
       "  width: 100%;\n",
       "  margin-bottom: 0;\n",
       "  padding: 0.5em;\n",
       "  box-sizing: border-box;\n",
       "  text-align: center;\n",
       "}\n",
       "\n",
       "#sk-container-id-14 label.sk-toggleable__label-arrow:before {\n",
       "  /* Arrow on the left of the label */\n",
       "  content: \"▸\";\n",
       "  float: left;\n",
       "  margin-right: 0.25em;\n",
       "  color: var(--sklearn-color-icon);\n",
       "}\n",
       "\n",
       "#sk-container-id-14 label.sk-toggleable__label-arrow:hover:before {\n",
       "  color: var(--sklearn-color-text);\n",
       "}\n",
       "\n",
       "/* Toggleable content - dropdown */\n",
       "\n",
       "#sk-container-id-14 div.sk-toggleable__content {\n",
       "  max-height: 0;\n",
       "  max-width: 0;\n",
       "  overflow: hidden;\n",
       "  text-align: left;\n",
       "  /* unfitted */\n",
       "  background-color: var(--sklearn-color-unfitted-level-0);\n",
       "}\n",
       "\n",
       "#sk-container-id-14 div.sk-toggleable__content.fitted {\n",
       "  /* fitted */\n",
       "  background-color: var(--sklearn-color-fitted-level-0);\n",
       "}\n",
       "\n",
       "#sk-container-id-14 div.sk-toggleable__content pre {\n",
       "  margin: 0.2em;\n",
       "  border-radius: 0.25em;\n",
       "  color: var(--sklearn-color-text);\n",
       "  /* unfitted */\n",
       "  background-color: var(--sklearn-color-unfitted-level-0);\n",
       "}\n",
       "\n",
       "#sk-container-id-14 div.sk-toggleable__content.fitted pre {\n",
       "  /* unfitted */\n",
       "  background-color: var(--sklearn-color-fitted-level-0);\n",
       "}\n",
       "\n",
       "#sk-container-id-14 input.sk-toggleable__control:checked~div.sk-toggleable__content {\n",
       "  /* Expand drop-down */\n",
       "  max-height: 200px;\n",
       "  max-width: 100%;\n",
       "  overflow: auto;\n",
       "}\n",
       "\n",
       "#sk-container-id-14 input.sk-toggleable__control:checked~label.sk-toggleable__label-arrow:before {\n",
       "  content: \"▾\";\n",
       "}\n",
       "\n",
       "/* Pipeline/ColumnTransformer-specific style */\n",
       "\n",
       "#sk-container-id-14 div.sk-label input.sk-toggleable__control:checked~label.sk-toggleable__label {\n",
       "  color: var(--sklearn-color-text);\n",
       "  background-color: var(--sklearn-color-unfitted-level-2);\n",
       "}\n",
       "\n",
       "#sk-container-id-14 div.sk-label.fitted input.sk-toggleable__control:checked~label.sk-toggleable__label {\n",
       "  background-color: var(--sklearn-color-fitted-level-2);\n",
       "}\n",
       "\n",
       "/* Estimator-specific style */\n",
       "\n",
       "/* Colorize estimator box */\n",
       "#sk-container-id-14 div.sk-estimator input.sk-toggleable__control:checked~label.sk-toggleable__label {\n",
       "  /* unfitted */\n",
       "  background-color: var(--sklearn-color-unfitted-level-2);\n",
       "}\n",
       "\n",
       "#sk-container-id-14 div.sk-estimator.fitted input.sk-toggleable__control:checked~label.sk-toggleable__label {\n",
       "  /* fitted */\n",
       "  background-color: var(--sklearn-color-fitted-level-2);\n",
       "}\n",
       "\n",
       "#sk-container-id-14 div.sk-label label.sk-toggleable__label,\n",
       "#sk-container-id-14 div.sk-label label {\n",
       "  /* The background is the default theme color */\n",
       "  color: var(--sklearn-color-text-on-default-background);\n",
       "}\n",
       "\n",
       "/* On hover, darken the color of the background */\n",
       "#sk-container-id-14 div.sk-label:hover label.sk-toggleable__label {\n",
       "  color: var(--sklearn-color-text);\n",
       "  background-color: var(--sklearn-color-unfitted-level-2);\n",
       "}\n",
       "\n",
       "/* Label box, darken color on hover, fitted */\n",
       "#sk-container-id-14 div.sk-label.fitted:hover label.sk-toggleable__label.fitted {\n",
       "  color: var(--sklearn-color-text);\n",
       "  background-color: var(--sklearn-color-fitted-level-2);\n",
       "}\n",
       "\n",
       "/* Estimator label */\n",
       "\n",
       "#sk-container-id-14 div.sk-label label {\n",
       "  font-family: monospace;\n",
       "  font-weight: bold;\n",
       "  display: inline-block;\n",
       "  line-height: 1.2em;\n",
       "}\n",
       "\n",
       "#sk-container-id-14 div.sk-label-container {\n",
       "  text-align: center;\n",
       "}\n",
       "\n",
       "/* Estimator-specific */\n",
       "#sk-container-id-14 div.sk-estimator {\n",
       "  font-family: monospace;\n",
       "  border: 1px dotted var(--sklearn-color-border-box);\n",
       "  border-radius: 0.25em;\n",
       "  box-sizing: border-box;\n",
       "  margin-bottom: 0.5em;\n",
       "  /* unfitted */\n",
       "  background-color: var(--sklearn-color-unfitted-level-0);\n",
       "}\n",
       "\n",
       "#sk-container-id-14 div.sk-estimator.fitted {\n",
       "  /* fitted */\n",
       "  background-color: var(--sklearn-color-fitted-level-0);\n",
       "}\n",
       "\n",
       "/* on hover */\n",
       "#sk-container-id-14 div.sk-estimator:hover {\n",
       "  /* unfitted */\n",
       "  background-color: var(--sklearn-color-unfitted-level-2);\n",
       "}\n",
       "\n",
       "#sk-container-id-14 div.sk-estimator.fitted:hover {\n",
       "  /* fitted */\n",
       "  background-color: var(--sklearn-color-fitted-level-2);\n",
       "}\n",
       "\n",
       "/* Specification for estimator info (e.g. \"i\" and \"?\") */\n",
       "\n",
       "/* Common style for \"i\" and \"?\" */\n",
       "\n",
       ".sk-estimator-doc-link,\n",
       "a:link.sk-estimator-doc-link,\n",
       "a:visited.sk-estimator-doc-link {\n",
       "  float: right;\n",
       "  font-size: smaller;\n",
       "  line-height: 1em;\n",
       "  font-family: monospace;\n",
       "  background-color: var(--sklearn-color-background);\n",
       "  border-radius: 1em;\n",
       "  height: 1em;\n",
       "  width: 1em;\n",
       "  text-decoration: none !important;\n",
       "  margin-left: 1ex;\n",
       "  /* unfitted */\n",
       "  border: var(--sklearn-color-unfitted-level-1) 1pt solid;\n",
       "  color: var(--sklearn-color-unfitted-level-1);\n",
       "}\n",
       "\n",
       ".sk-estimator-doc-link.fitted,\n",
       "a:link.sk-estimator-doc-link.fitted,\n",
       "a:visited.sk-estimator-doc-link.fitted {\n",
       "  /* fitted */\n",
       "  border: var(--sklearn-color-fitted-level-1) 1pt solid;\n",
       "  color: var(--sklearn-color-fitted-level-1);\n",
       "}\n",
       "\n",
       "/* On hover */\n",
       "div.sk-estimator:hover .sk-estimator-doc-link:hover,\n",
       ".sk-estimator-doc-link:hover,\n",
       "div.sk-label-container:hover .sk-estimator-doc-link:hover,\n",
       ".sk-estimator-doc-link:hover {\n",
       "  /* unfitted */\n",
       "  background-color: var(--sklearn-color-unfitted-level-3);\n",
       "  color: var(--sklearn-color-background);\n",
       "  text-decoration: none;\n",
       "}\n",
       "\n",
       "div.sk-estimator.fitted:hover .sk-estimator-doc-link.fitted:hover,\n",
       ".sk-estimator-doc-link.fitted:hover,\n",
       "div.sk-label-container:hover .sk-estimator-doc-link.fitted:hover,\n",
       ".sk-estimator-doc-link.fitted:hover {\n",
       "  /* fitted */\n",
       "  background-color: var(--sklearn-color-fitted-level-3);\n",
       "  color: var(--sklearn-color-background);\n",
       "  text-decoration: none;\n",
       "}\n",
       "\n",
       "/* Span, style for the box shown on hovering the info icon */\n",
       ".sk-estimator-doc-link span {\n",
       "  display: none;\n",
       "  z-index: 9999;\n",
       "  position: relative;\n",
       "  font-weight: normal;\n",
       "  right: .2ex;\n",
       "  padding: .5ex;\n",
       "  margin: .5ex;\n",
       "  width: min-content;\n",
       "  min-width: 20ex;\n",
       "  max-width: 50ex;\n",
       "  color: var(--sklearn-color-text);\n",
       "  box-shadow: 2pt 2pt 4pt #999;\n",
       "  /* unfitted */\n",
       "  background: var(--sklearn-color-unfitted-level-0);\n",
       "  border: .5pt solid var(--sklearn-color-unfitted-level-3);\n",
       "}\n",
       "\n",
       ".sk-estimator-doc-link.fitted span {\n",
       "  /* fitted */\n",
       "  background: var(--sklearn-color-fitted-level-0);\n",
       "  border: var(--sklearn-color-fitted-level-3);\n",
       "}\n",
       "\n",
       ".sk-estimator-doc-link:hover span {\n",
       "  display: block;\n",
       "}\n",
       "\n",
       "/* \"?\"-specific style due to the `<a>` HTML tag */\n",
       "\n",
       "#sk-container-id-14 a.estimator_doc_link {\n",
       "  float: right;\n",
       "  font-size: 1rem;\n",
       "  line-height: 1em;\n",
       "  font-family: monospace;\n",
       "  background-color: var(--sklearn-color-background);\n",
       "  border-radius: 1rem;\n",
       "  height: 1rem;\n",
       "  width: 1rem;\n",
       "  text-decoration: none;\n",
       "  /* unfitted */\n",
       "  color: var(--sklearn-color-unfitted-level-1);\n",
       "  border: var(--sklearn-color-unfitted-level-1) 1pt solid;\n",
       "}\n",
       "\n",
       "#sk-container-id-14 a.estimator_doc_link.fitted {\n",
       "  /* fitted */\n",
       "  border: var(--sklearn-color-fitted-level-1) 1pt solid;\n",
       "  color: var(--sklearn-color-fitted-level-1);\n",
       "}\n",
       "\n",
       "/* On hover */\n",
       "#sk-container-id-14 a.estimator_doc_link:hover {\n",
       "  /* unfitted */\n",
       "  background-color: var(--sklearn-color-unfitted-level-3);\n",
       "  color: var(--sklearn-color-background);\n",
       "  text-decoration: none;\n",
       "}\n",
       "\n",
       "#sk-container-id-14 a.estimator_doc_link.fitted:hover {\n",
       "  /* fitted */\n",
       "  background-color: var(--sklearn-color-fitted-level-3);\n",
       "}\n",
       "</style><div id=\"sk-container-id-14\" class=\"sk-top-container\"><div class=\"sk-text-repr-fallback\"><pre>GridSearchCV(cv=5, estimator=SVC(random_state=42),\n",
       "             param_grid=[{&#x27;C&#x27;: [0.01, 0.1, 1, 10, 100],\n",
       "                          &#x27;gamma&#x27;: [0.01, 0.1, 1, 10, 100], &#x27;kernel&#x27;: [&#x27;rbf&#x27;]},\n",
       "                         {&#x27;C&#x27;: [0.1, 1, 10], &#x27;coef0&#x27;: [-0.5, 0, 0.5],\n",
       "                          &#x27;degree&#x27;: [2, 3, 4], &#x27;kernel&#x27;: [&#x27;poly&#x27;]}],\n",
       "             return_train_score=True, scoring=&#x27;accuracy&#x27;)</pre><b>In a Jupyter environment, please rerun this cell to show the HTML representation or trust the notebook. <br />On GitHub, the HTML representation is unable to render, please try loading this page with nbviewer.org.</b></div><div class=\"sk-container\" hidden><div class=\"sk-item sk-dashed-wrapped\"><div class=\"sk-label-container\"><div class=\"sk-label fitted sk-toggleable\"><input class=\"sk-toggleable__control sk-hidden--visually\" id=\"sk-estimator-id-36\" type=\"checkbox\" ><label for=\"sk-estimator-id-36\" class=\"sk-toggleable__label fitted sk-toggleable__label-arrow fitted\">&nbsp;&nbsp;GridSearchCV<a class=\"sk-estimator-doc-link fitted\" rel=\"noreferrer\" target=\"_blank\" href=\"https://scikit-learn.org/1.4/modules/generated/sklearn.model_selection.GridSearchCV.html\">?<span>Documentation for GridSearchCV</span></a><span class=\"sk-estimator-doc-link fitted\">i<span>Fitted</span></span></label><div class=\"sk-toggleable__content fitted\"><pre>GridSearchCV(cv=5, estimator=SVC(random_state=42),\n",
       "             param_grid=[{&#x27;C&#x27;: [0.01, 0.1, 1, 10, 100],\n",
       "                          &#x27;gamma&#x27;: [0.01, 0.1, 1, 10, 100], &#x27;kernel&#x27;: [&#x27;rbf&#x27;]},\n",
       "                         {&#x27;C&#x27;: [0.1, 1, 10], &#x27;coef0&#x27;: [-0.5, 0, 0.5],\n",
       "                          &#x27;degree&#x27;: [2, 3, 4], &#x27;kernel&#x27;: [&#x27;poly&#x27;]}],\n",
       "             return_train_score=True, scoring=&#x27;accuracy&#x27;)</pre></div> </div></div><div class=\"sk-parallel\"><div class=\"sk-parallel-item\"><div class=\"sk-item\"><div class=\"sk-label-container\"><div class=\"sk-label fitted sk-toggleable\"><input class=\"sk-toggleable__control sk-hidden--visually\" id=\"sk-estimator-id-37\" type=\"checkbox\" ><label for=\"sk-estimator-id-37\" class=\"sk-toggleable__label fitted sk-toggleable__label-arrow fitted\">estimator: SVC</label><div class=\"sk-toggleable__content fitted\"><pre>SVC(random_state=42)</pre></div> </div></div><div class=\"sk-serial\"><div class=\"sk-item\"><div class=\"sk-estimator fitted sk-toggleable\"><input class=\"sk-toggleable__control sk-hidden--visually\" id=\"sk-estimator-id-38\" type=\"checkbox\" ><label for=\"sk-estimator-id-38\" class=\"sk-toggleable__label fitted sk-toggleable__label-arrow fitted\">&nbsp;SVC<a class=\"sk-estimator-doc-link fitted\" rel=\"noreferrer\" target=\"_blank\" href=\"https://scikit-learn.org/1.4/modules/generated/sklearn.svm.SVC.html\">?<span>Documentation for SVC</span></a></label><div class=\"sk-toggleable__content fitted\"><pre>SVC(random_state=42)</pre></div> </div></div></div></div></div></div></div></div></div>"
      ],
      "text/plain": [
       "GridSearchCV(cv=5, estimator=SVC(random_state=42),\n",
       "             param_grid=[{'C': [0.01, 0.1, 1, 10, 100],\n",
       "                          'gamma': [0.01, 0.1, 1, 10, 100], 'kernel': ['rbf']},\n",
       "                         {'C': [0.1, 1, 10], 'coef0': [-0.5, 0, 0.5],\n",
       "                          'degree': [2, 3, 4], 'kernel': ['poly']}],\n",
       "             return_train_score=True, scoring='accuracy')"
      ]
     },
     "execution_count": 2518,
     "metadata": {},
     "output_type": "execute_result"
    }
   ],
   "source": [
    "# try 25 (5×5) combinations of hyperparameters, and then 27 (3×3×3) other combinations of parameters\n",
    "param_grid = [{'kernel': ['rbf'], 'C': [1e-2, 1e-1, 1, 10, 100], 'gamma': [1e-2, 1e-1, 1, 10, 100]},\n",
    "              {'kernel': ['poly'], 'C': [1e-1, 1, 10], 'coef0': [-0.5, 0, 0.5], 'degree': [2, 3, 4]}]\n",
    "\n",
    "grid_search = GridSearchCV(\n",
    "    estimator=svm_clf, \n",
    "    param_grid=param_grid, \n",
    "    cv=5,\n",
    "    scoring='accuracy',\n",
    "    return_train_score=True)\n",
    "grid_search.fit(X_train, y_train)"
   ]
  },
  {
   "cell_type": "code",
   "execution_count": 2519,
   "id": "790d0620-28ab-4d5e-a025-6923a7f82029",
   "metadata": {},
   "outputs": [
    {
     "name": "stdout",
     "output_type": "stream",
     "text": [
      "Best model: {'C': 0.1, 'coef0': 0.5, 'degree': 3, 'kernel': 'poly'}\n",
      "Mean accuracy: 79.50%\n"
     ]
    }
   ],
   "source": [
    "# best model\n",
    "model = grid_search.best_estimator_\n",
    "params = grid_search.best_params_\n",
    "accuracy = grid_search.best_score_\n",
    "print(f\"Best model: {params}\\nMean accuracy: {accuracy*100:.2f}%\")"
   ]
  },
  {
   "cell_type": "markdown",
   "id": "3959dc86-c252-42bc-86e7-29a7150e8ed2",
   "metadata": {},
   "source": [
    "## Model Evaluation <a class=\"anchor\" id=\"ModelEvaluation\"></a>\n",
    "\n",
    "Now that we have chosen our model, we'll evaluate it on the test set."
   ]
  },
  {
   "cell_type": "code",
   "execution_count": 2520,
   "id": "539916ca-1710-4f1a-920d-931372d08f44",
   "metadata": {},
   "outputs": [],
   "source": [
    "from sklearn.metrics import roc_curve, precision_recall_curve, accuracy_score, confusion_matrix, roc_auc_score\n",
    "\n",
    "model.fit(X_train, y_train)\n",
    "\n",
    "y_pred = model.predict(X_test)\n",
    "y_scores = model.decision_function(X_test)"
   ]
  },
  {
   "cell_type": "markdown",
   "id": "cf667ff7-f387-4285-a952-44392567c475",
   "metadata": {},
   "source": [
    "We'll check the accuracy:"
   ]
  },
  {
   "cell_type": "code",
   "execution_count": 2521,
   "id": "f8b1b08a-5f89-4bac-bc3e-c6151a3ce8a5",
   "metadata": {},
   "outputs": [
    {
     "name": "stdout",
     "output_type": "stream",
     "text": [
      "Accuracy on the test set: 81.30%\n"
     ]
    }
   ],
   "source": [
    "accuracy = accuracy_score(y_true=y_test, y_pred=y_pred)\n",
    "auc = roc_auc_score(y_true=y_test, y_score=y_scores)\n",
    "print(f\"Accuracy on the test set: {100*accuracy:.2f}%\")"
   ]
  },
  {
   "cell_type": "markdown",
   "id": "6013fe9d-21d3-408f-91da-bf120987d70d",
   "metadata": {},
   "source": [
    "Not bad! Now, we'll also look at the **ROC** and **Precision vs. Recall** curves."
   ]
  },
  {
   "cell_type": "code",
   "execution_count": 2522,
   "id": "18a14d20-f374-4e05-9d92-6fd2442f07cc",
   "metadata": {},
   "outputs": [],
   "source": [
    "fpr, tpr, thresholds = roc_curve(y_test, y_scores)"
   ]
  },
  {
   "cell_type": "code",
   "execution_count": 2523,
   "id": "94e8b2cd-a38f-426f-ace3-f1023bb04e25",
   "metadata": {},
   "outputs": [
    {
     "data": {
      "image/png": "[encoded data removed]",
      "text/plain": [
       "<Figure size 600x600 with 1 Axes>"
      ]
     },
     "metadata": {},
     "output_type": "display_data"
    }
   ],
   "source": [
    "def plot_roc_curve(fpr, tpr, label=None):\n",
    "    plt.plot(fpr, tpr, linewidth=2, label=label)\n",
    "    plt.plot([0, 1], [0, 1], 'k--') # dashed diagonal\n",
    "    plt.axis([0, 1, 0, 1])\n",
    "    plt.title(f\"ROC Curve, AUC = {auc:.3f}\", fontsize=16)\n",
    "    plt.xlabel('False Positive Rate (Fall-Out)', fontsize=12) \n",
    "    plt.ylabel('True Positive Rate (Recall)', fontsize=12)    \n",
    "    plt.grid(True)                                            \n",
    "\n",
    "plt.figure(figsize=(6, 6))                                    \n",
    "plot_roc_curve(fpr, tpr)"
   ]
  },
  {
   "cell_type": "markdown",
   "id": "2a605911-9d1e-4b6b-83e7-9829b774782f",
   "metadata": {},
   "source": [
    "The model is much better than a random choice, with a quite large AUC. Now, to the Precision vs. Recall curve:"
   ]
  },
  {
   "cell_type": "code",
   "execution_count": 2524,
   "id": "f3a5a275-9ab4-4893-b762-c86524c23271",
   "metadata": {},
   "outputs": [],
   "source": [
    "precisions, recalls, thresholds = precision_recall_curve(y_true=y_test, probas_pred=y_scores)"
   ]
  },
  {
   "cell_type": "code",
   "execution_count": 2525,
   "id": "2c019ddb-fdc2-48e4-bf6d-a1b8340eabf1",
   "metadata": {},
   "outputs": [
    {
     "name": "stdout",
     "output_type": "stream",
     "text": [
      "Recall for 0.9 precision: 0.59\n"
     ]
    },
    {
     "data": {
      "image/png": "[encoded data removed]",
      "text/plain": [
       "<Figure size 600x600 with 1 Axes>"
      ]
     },
     "metadata": {},
     "output_type": "display_data"
    }
   ],
   "source": [
    "def plot_precision_recall_vs_threshold(precisions, recalls, thresholds):\n",
    "    plt.plot(thresholds, precisions[:-1], \"b--\", label=\"Precision\", linewidth=2)\n",
    "    plt.plot(thresholds, recalls[:-1], \"g-\", label=\"Recall\", linewidth=2)\n",
    "    plt.title(\"Precsion and Recall curves\", fontsize=16)\n",
    "    plt.legend(loc=\"lower left\", fontsize=12) \n",
    "    plt.xlabel(\"Threshold\", fontsize=12)        \n",
    "    plt.grid(True)                             \n",
    "    plt.axis([-1, 1, 0, 1])             \n",
    "\n",
    "\n",
    "\n",
    "recall_90_precision = recalls[np.argmax(precisions >= 0.9)]\n",
    "print(f'Recall for 0.9 precision: {recall_90_precision:.2f}')\n",
    "threshold_90_precision = thresholds[np.argmax(precisions >= 0.9)]\n",
    "\n",
    "\n",
    "plt.figure(figsize=(6, 6))                                                                  \n",
    "plot_precision_recall_vs_threshold(precisions, recalls, thresholds)\n",
    "# plot the recall for the 0.9 precision\n",
    "plt.plot([threshold_90_precision, threshold_90_precision], [0., 0.9], \"r:\")                 \n",
    "plt.plot([min(thresholds), threshold_90_precision], [0.9, 0.9], \"r:\")                                \n",
    "plt.plot([min(thresholds), threshold_90_precision], [recall_90_precision, recall_90_precision], \"r:\")\n",
    "plt.plot([threshold_90_precision], [0.9], \"ro\")                                             \n",
    "plt.plot([threshold_90_precision], [recall_90_precision], \"ro\")                            \n",
    "plt.show()"
   ]
  },
  {
   "cell_type": "code",
   "execution_count": 2526,
   "id": "bad20550-d7e6-4020-ba56-1b3d3014a864",
   "metadata": {},
   "outputs": [
    {
     "data": {
      "image/png": "[encoded data removed]",
      "text/plain": [
       "<Figure size 600x600 with 1 Axes>"
      ]
     },
     "metadata": {},
     "output_type": "display_data"
    }
   ],
   "source": [
    "def plot_precision_vs_recall(precisions, recalls):\n",
    "    plt.plot(recalls, precisions, \"b-\", linewidth=2)\n",
    "    plt.title(\"Precsion vs.Recall curve\", fontsize=16)\n",
    "    plt.xlabel(\"Recall\", fontsize=12)\n",
    "    plt.ylabel(\"Precision\", fontsize=12)\n",
    "    plt.axis([0, 1, 0, 1])\n",
    "    plt.grid(True)\n",
    "\n",
    "plt.figure(figsize=(6, 6))\n",
    "plot_precision_vs_recall(precisions, recalls)\n",
    "\n",
    "plt.plot([recall_90_precision, recall_90_precision], [0., 0.9], \"r:\")\n",
    "plt.plot([0.0, recall_90_precision], [0.9, 0.9], \"r:\")\n",
    "plt.plot([recall_90_precision], [0.9], \"ro\")\n",
    "plt.show()"
   ]
  },
  {
   "cell_type": "markdown",
   "id": "2cfec2ea-0cb2-4856-8b94-599d31bdf323",
   "metadata": {},
   "source": [
    "All curves look quite good, so we are done!"
   ]
  }
 ],
 "metadata": {
  "kernelspec": {
   "display_name": "Python 3 (ipykernel)",
   "language": "python",
   "name": "python3"
  },
  "language_info": {
   "codemirror_mode": {
    "name": "ipython",
    "version": 3
   },
   "file_extension": ".py",
   "mimetype": "text/x-python",
   "name": "python",
   "nbconvert_exporter": "python",
   "pygments_lexer": "ipython3",
   "version": "3.10.11"
  }
 },
 "nbformat": 4,
 "nbformat_minor": 5
}
